{
 "cells": [
  {
   "cell_type": "code",
   "execution_count": null,
   "metadata": {},
   "outputs": [],
   "source": [
    "import geopandas as gpd\n",
    "\n",
    "gdf = gpd.read_file('temp/country-borders-raw.geo.jsonseq', engine=\"pyogrio\")\n",
    "gdf"
   ]
  },
  {
   "cell_type": "code",
   "execution_count": null,
   "metadata": {},
   "outputs": [],
   "source": [
    "gdf.plot(figsize=(20,20))"
   ]
  },
  {
   "cell_type": "code",
   "execution_count": null,
   "metadata": {},
   "outputs": [],
   "source": [
    "for c in gdf.columns:\n",
    "    if ':' in c:\n",
    "        continue\n",
    "    print(f\"        '{c}',\")"
   ]
  },
  {
   "cell_type": "code",
   "execution_count": null,
   "metadata": {},
   "outputs": [],
   "source": [
    "COUNTRY_TAGS = [\n",
    "        'boundary',\n",
    "        'admin_level',\n",
    "        'name',\n",
    "        'name:en',\n",
    "        'ISO3166-1',\n",
    "        'ISO3166-1:alpha2',\n",
    "        'ISO3166-1:alpha3',\n",
    "        'ISO3166-1:numeric',\n",
    "        'ISO3166-2',\n",
    "        'alt_int_name',\n",
    "        'alt_name',\n",
    "        'wikidata',\n",
    "        'wikipedia',\n",
    "        'geometry',\n",
    "]"
   ]
  },
  {
   "cell_type": "code",
   "execution_count": null,
   "metadata": {},
   "outputs": [],
   "source": [
    "#temp = gdf[COUNTRY_TAGS].dropna(subset='name')\n",
    "#temp[temp.geom_type == 'MultiPolygon'][20:40]# .plot(figsize=(30,30))\n",
    "#temp[temp['name'] == 'Isla Tres Cruces']"
   ]
  },
  {
   "cell_type": "code",
   "execution_count": null,
   "metadata": {},
   "outputs": [],
   "source": [
    "#temp = temp[temp.geom_type == 'MultiPolygon']\n",
    "#temp[temp['ISO3166-1'].isna()]\n",
    "#temp[temp['name'] == 'Isla Tres Cruces'].plot()"
   ]
  },
  {
   "cell_type": "code",
   "execution_count": null,
   "metadata": {},
   "outputs": [],
   "source": [
    "countries = gdf[COUNTRY_TAGS].dropna(subset='name').dropna(subset='ISO3166-1')\n",
    "countries"
   ]
  },
  {
   "cell_type": "code",
   "execution_count": null,
   "metadata": {},
   "outputs": [],
   "source": [
    "countries.plot(figsize=(20,20))"
   ]
  },
  {
   "cell_type": "code",
   "execution_count": null,
   "metadata": {},
   "outputs": [],
   "source": [
    "countries.geom_type.describe()"
   ]
  },
  {
   "cell_type": "code",
   "execution_count": null,
   "metadata": {},
   "outputs": [],
   "source": [
    "import json\n",
    "from tqdm import tqdm\n",
    "\n",
    "extracts = []\n",
    "\n",
    "for index in tqdm(range(len(countries))):\n",
    "    row = countries.iloc[index]\n",
    "    CC = row['ISO3166-1']\n",
    "    \n",
    "    countries.iloc[[index]].to_file(f\"extracts/{CC}-borders.geojson\")\n",
    "\n",
    "    extracts.append({\n",
    "        'output': f'{CC}.pbf',\n",
    "        'output_format': 'pbf',\n",
    "        'description': f\"{row['name:en']} / {row['name']}\",\n",
    "        'multipolygon': {\n",
    "            \"file_name\": f\"{CC}-borders.geojson\",\n",
    "            \"file_type\": \"geojson\"\n",
    "        }\n",
    "    })\n",
    "\n",
    "config = {\n",
    "    \"directory\": \"extracts\",\n",
    "    \"extracts\": extracts\n",
    "}\n",
    "\n",
    "fp = open('extracts-config.json', 'wt', encoding='UTF8')\n",
    "json.dump(config, fp, sort_keys=True, indent=4, ensure_ascii=False)\n",
    "fp.close()"
   ]
  }
 ],
 "metadata": {
  "kernelspec": {
   "display_name": "Python 3",
   "language": "python",
   "name": "python3"
  },
  "language_info": {
   "codemirror_mode": {
    "name": "ipython",
    "version": 3
   },
   "file_extension": ".py",
   "mimetype": "text/x-python",
   "name": "python",
   "nbconvert_exporter": "python",
   "pygments_lexer": "ipython3",
   "version": "3.11.1"
  },
  "orig_nbformat": 4
 },
 "nbformat": 4,
 "nbformat_minor": 2
}
