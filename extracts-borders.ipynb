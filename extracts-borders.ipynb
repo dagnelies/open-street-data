{
 "cells": [
  {
   "attachments": {},
   "cell_type": "markdown",
   "metadata": {},
   "source": [
    "# Countries"
   ]
  },
  {
   "cell_type": "code",
   "execution_count": null,
   "metadata": {},
   "outputs": [],
   "source": [
    "import pandas as pd\n",
    "\n",
    "URL = 'https://raw.githubusercontent.com/lukes/ISO-3166-Countries-with-Regional-Codes/master/all/all.csv'\n",
    "# na_filter=False to avoid interpreting country code \"NA\" as numpy's NaN value\n",
    "countries = pd.read_csv(URL, dtype=str, na_filter=False)\n",
    "countries"
   ]
  },
  {
   "cell_type": "code",
   "execution_count": null,
   "metadata": {},
   "outputs": [],
   "source": [
    "def to_ascii(val):\n",
    "    return val.lower().replace(' ', '-')\n",
    "    \n",
    "countries['region'] = countries['region'].apply(to_ascii)\n",
    "countries['sub-region'] = countries['sub-region'].apply(to_ascii)\n",
    "countries = countries[['alpha-2', 'name', 'region', 'sub-region']]\n",
    "countries\n"
   ]
  },
  {
   "cell_type": "code",
   "execution_count": null,
   "metadata": {},
   "outputs": [],
   "source": [
    "countries.to_csv('countries.tsv', encoding='utf8', sep='\\t', index=None)"
   ]
  },
  {
   "attachments": {},
   "cell_type": "markdown",
   "metadata": {},
   "source": [
    "# Borders"
   ]
  },
  {
   "cell_type": "code",
   "execution_count": null,
   "metadata": {},
   "outputs": [],
   "source": [
    "# Extracts all country boundaries\n",
    "! time osmium tags-filter --remove-tags --overwrite --output=\"temp/country-borders-raw.osm.pbf\" planet-*.osm.pbf \"wr/admin_level=2\""
   ]
  },
  {
   "cell_type": "code",
   "execution_count": null,
   "metadata": {},
   "outputs": [],
   "source": [
    "# Converts to GeoJson\n",
    "! time osmium export --overwrite --output-format=geojsonseq --output=\"temp/country-borders-raw.geo.jsonseq\" \"temp/country-borders-raw.osm.pbf\"\n"
   ]
  },
  {
   "cell_type": "code",
   "execution_count": null,
   "metadata": {},
   "outputs": [],
   "source": [
    "import geopandas as gpd\n",
    "\n",
    "COUNTRY_TAGS = [\n",
    "        #'boundary',\n",
    "        #'admin_level',\n",
    "        'ISO3166-1',\n",
    "        #'ISO3166-1:alpha2',\n",
    "        #'ISO3166-1:alpha3',\n",
    "        #'ISO3166-1:numeric',\n",
    "        #'ISO3166-2',\n",
    "        #'name:en',\n",
    "        #'name',\n",
    "        #'alt_name',\n",
    "        #'wikidata',\n",
    "        #'wikipedia',\n",
    "        #'geometry',\n",
    "]\n",
    "\n",
    "borders = gpd.read_file('temp/country-borders-raw.geo.jsonseq', engine=\"pyogrio\", columns=COUNTRY_TAGS)\n",
    "borders"
   ]
  },
  {
   "cell_type": "code",
   "execution_count": null,
   "metadata": {},
   "outputs": [],
   "source": [
    "borders = borders.dropna()\n",
    "borders"
   ]
  },
  {
   "cell_type": "code",
   "execution_count": null,
   "metadata": {},
   "outputs": [],
   "source": [
    "borders.plot(figsize=(20,20), cmap='tab20')"
   ]
  },
  {
   "cell_type": "code",
   "execution_count": null,
   "metadata": {},
   "outputs": [],
   "source": [
    "import json\n",
    "from tqdm import tqdm\n",
    "\n",
    "for index in tqdm(range(len(borders))):\n",
    "    row = borders.iloc[index]\n",
    "    CC = row['ISO3166-1']\n",
    "    borders.iloc[[index]].to_file(f\"extracts/{CC}.borders.geojson\")"
   ]
  },
  {
   "attachments": {},
   "cell_type": "markdown",
   "metadata": {},
   "source": [
    "# Regions & sub-regions"
   ]
  },
  {
   "cell_type": "code",
   "execution_count": null,
   "metadata": {},
   "outputs": [],
   "source": [
    "\n",
    "borders = borders.merge(countries, left_on='ISO3166-1', right_on='alpha-2').drop(columns=['alpha-2'])\n",
    "borders"
   ]
  },
  {
   "cell_type": "code",
   "execution_count": null,
   "metadata": {},
   "outputs": [],
   "source": [
    "regions = borders[['ISO3166-1','region','geometry']].dissolve(by='region', aggfunc=';'.join).reset_index()\n",
    "regions.plot(figsize=(20,20), cmap='tab20')"
   ]
  },
  {
   "cell_type": "code",
   "execution_count": null,
   "metadata": {},
   "outputs": [],
   "source": [
    "regions"
   ]
  },
  {
   "cell_type": "code",
   "execution_count": null,
   "metadata": {},
   "outputs": [],
   "source": [
    "sub_regions = borders[['ISO3166-1','sub-region','geometry']].dissolve(by='sub-region', aggfunc=';'.join).reset_index()\n",
    "sub_regions.plot(figsize=(20,20), cmap='tab20')"
   ]
  },
  {
   "cell_type": "code",
   "execution_count": null,
   "metadata": {},
   "outputs": [],
   "source": [
    "#from shapely.geometry import box\n",
    "#bbox = box(-180, -90, +180, +90)\n",
    "\n",
    "#sub_regions['geometry'] = sub_regions['geometry'].simplify(0.1)\n",
    "#sub_regions['geometry'] = sub_regions['geometry'].buffer(1).simplify(1).clip(bbox)\n",
    "#sub_regions.geometry.concave_hull.plot(cmap='tab20', figsize=(20,20))\n",
    "#sub_regions.plot(cmap='tab20', figsize=(20,20))"
   ]
  },
  {
   "cell_type": "code",
   "execution_count": null,
   "metadata": {},
   "outputs": [],
   "source": [
    "sub_regions"
   ]
  },
  {
   "attachments": {},
   "cell_type": "markdown",
   "metadata": {},
   "source": [
    "# Split planet into sub-regions"
   ]
  },
  {
   "cell_type": "code",
   "execution_count": null,
   "metadata": {},
   "outputs": [],
   "source": [
    "import json\n",
    "from tqdm import tqdm\n",
    "\n",
    "extracts = []\n",
    "\n",
    "for index in tqdm(range(len(sub_regions))):\n",
    "    row = sub_regions.iloc[index]\n",
    "    SR = row['sub-region']\n",
    "    #print(SR)\n",
    "    \n",
    "    sub_regions.iloc[[index]].to_file(f\"temp/{SR}.borders.geojson\")\n",
    "\n",
    "    extracts.append({\n",
    "        'output': f'temp/{SR}.osm.pbf',\n",
    "        'output_format': 'pbf',\n",
    "        'multipolygon': {\n",
    "            \"file_name\": f\"{SR}.borders.geojson\", # Path relative to config!\n",
    "            \"file_type\": \"geojson\"\n",
    "        }\n",
    "    })\n",
    "\n",
    "config = {\n",
    "    \"extracts\": extracts\n",
    "}\n",
    "\n",
    "fp = open('temp/extracts-into-sub-regions.json', 'wt', encoding='UTF8')\n",
    "json.dump(config, fp, sort_keys=True, indent=4, ensure_ascii=False)\n",
    "fp.close()"
   ]
  },
  {
   "cell_type": "code",
   "execution_count": null,
   "metadata": {},
   "outputs": [],
   "source": [
    "# Beware, this line splits the planet in multiple sub-regions and takes hours\n",
    "! time osmium extract --overwrite --strategy=simple --config='temp/extracts-into-sub-regions.json' planet-*.osm.pbf"
   ]
  },
  {
   "attachments": {},
   "cell_type": "markdown",
   "metadata": {},
   "source": [
    "# Split sub-regions into countries"
   ]
  },
  {
   "cell_type": "code",
   "execution_count": null,
   "metadata": {},
   "outputs": [],
   "source": [
    "import json\n",
    "from tqdm import tqdm\n",
    "\n",
    "extracts = {}\n",
    "\n",
    "for index,row in sub_regions.iterrows():\n",
    "    SR = row['sub-region']\n",
    "    extracts = []\n",
    "\n",
    "    for CC in row['ISO3166-1'].split(';'):\n",
    "        extracts.append({\n",
    "            'output': f'extracts/{CC}.osm.pbf',\n",
    "            'output_format': 'pbf',\n",
    "            'output_header': {\n",
    "                'generator': 'https://openstreetdata.org'\n",
    "            },\n",
    "            'multipolygon': {\n",
    "                \"file_name\": f\"../extracts/{CC}.borders.geojson\", # relative to config file\n",
    "                \"file_type\": \"geojson\"\n",
    "            }\n",
    "        })\n",
    "\n",
    "    config = {\n",
    "        \"extracts\": extracts\n",
    "    }\n",
    "\n",
    "    fp = open(f'temp/extracts-config-{SR}.json', 'wt', encoding='UTF8')\n",
    "    json.dump(config, fp, sort_keys=True, indent=4, ensure_ascii=False)\n",
    "    fp.close()"
   ]
  },
  {
   "cell_type": "code",
   "execution_count": null,
   "metadata": {},
   "outputs": [],
   "source": [
    "for SR in sub_regions['sub-region']:\n",
    "    print(SR)\n",
    "    ! time osmium extract --overwrite --strategy=simple --config=\"temp/extracts-config-{SR}.json\" temp/{SR}.osm.pbf\n"
   ]
  }
 ],
 "metadata": {
  "kernelspec": {
   "display_name": "Python 3",
   "language": "python",
   "name": "python3"
  },
  "language_info": {
   "codemirror_mode": {
    "name": "ipython",
    "version": 3
   },
   "file_extension": ".py",
   "mimetype": "text/x-python",
   "name": "python",
   "nbconvert_exporter": "python",
   "pygments_lexer": "ipython3",
   "version": "3.10.6"
  },
  "orig_nbformat": 4
 },
 "nbformat": 4,
 "nbformat_minor": 2
}
