{
 "cells": [
  {
   "cell_type": "code",
   "execution_count": null,
   "metadata": {},
   "outputs": [],
   "source": [
    "import pandas as pd\n",
    "import pandas as pd\n",
    "\n",
    "URL = 'https://raw.githubusercontent.com/lukes/ISO-3166-Countries-with-Regional-Codes/master/all/all.csv'\n",
    "# na_filter=False to avoid interpreting country code \"NA\" as numpy's NaN value\n",
    "countries = pd.read_csv(URL, dtype=str, na_filter=False)\n",
    "countries = countries[['alpha-2', 'name', 'region', 'sub-region']]\n",
    "countries = countries.sort_values(by='alpha-2')\n",
    "countries = countries.rename(columns={'alpha-2':'code','region':'continent','sub-region':'region'})\n",
    "countries\n",
    "#countries = pd.read_csv('countries.tsv', encoding='utf8', sep='\\t', na_filter=None)\n",
    "#countries"
   ]
  },
  {
   "cell_type": "code",
   "execution_count": null,
   "metadata": {},
   "outputs": [],
   "source": [
    "URL_BASE = 'https://files.openstreetdata.org'\n",
    "\n",
    "#countries['extract_pbf'] = URL_BASE + '/extracts/' + countries['alpha-2'] + '-houses.tsv.gz'\n",
    "#countries['extract_geo'] = URL_BASE + '/extracts/' + countries['alpha-2'] + '-houses.tsv.gz'\n",
    "#countries['streets']     = URL_BASE +  + '/addresses/' + countries['alpha-2'] + '-houses.tsv.gz'\n",
    "#countries['streets_count'] = countries['alpha-2'].apply(count_rows)\n",
    "#countries['houses']      = URL_BASE + '/addresses/' + countries['alpha-2'] + '-houses.tsv.gz'\n",
    "#countries['houses_count'] = countries['alpha-2'].apply(count_rows)\n",
    "\n",
    "import os\n",
    "import humanize\n",
    "import numpy as np\n",
    "\n",
    "def filesize(path):\n",
    "    if not os.path.exists(path):\n",
    "        return np.nan\n",
    "    size = os.path.getsize(path)\n",
    "    return humanize.naturalsize(size)\n",
    "\n",
    "countries['extract_pbf_size'] = ('extracts/' + countries['code'] + '.osm.pbf').apply(filesize)\n",
    "countries = countries.dropna()\n",
    "countries['addresses_streets_size'] = ('addresses/' + countries['code'] + '-streets.tsv.gz').apply(filesize)\n",
    "countries['addresses_houses_size'] = ('addresses/' + countries['code'] + '-houses.tsv.gz').apply(filesize)\n",
    "countries"
   ]
  },
  {
   "cell_type": "code",
   "execution_count": null,
   "metadata": {},
   "outputs": [],
   "source": [
    "countries.to_json('www/countries.json', orient='records')"
   ]
  }
 ],
 "metadata": {
  "kernelspec": {
   "display_name": "Python 3",
   "language": "python",
   "name": "python3"
  },
  "language_info": {
   "codemirror_mode": {
    "name": "ipython",
    "version": 3
   },
   "file_extension": ".py",
   "mimetype": "text/x-python",
   "name": "python",
   "nbconvert_exporter": "python",
   "pygments_lexer": "ipython3",
   "version": "3.10.6"
  },
  "orig_nbformat": 4
 },
 "nbformat": 4,
 "nbformat_minor": 2
}
