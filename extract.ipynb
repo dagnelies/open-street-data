{
 "cells": [
  {
   "attachments": {},
   "cell_type": "markdown",
   "metadata": {},
   "source": [
    "# Extraction\n",
    "\n",
    "Reads the three pre-filtered country files:\n",
    "\n",
    "- `{COUNTRY}-areas.geo.jsonseq`\n",
    "- `{COUNTRY}-streets.geo.jsonseq`\n",
    "- `{COUNTRY}-housenums.geo.jsonseq`\n",
    "\n",
    "And process it as follows:\n",
    "\n",
    "- Extract only certain properties\n",
    "- Country border clipping\n",
    "- For areas: keep only administrative and postal_code boundaries\n",
    "- For streets: keep only those with a name\n",
    "- For housenums: compute centroid\n",
    "\n",
    "The result are 2 \"final\" tab-separated-values files:\n",
    "\n",
    "**postal-codes.tsv**\n",
    "\n",
    "    - postal_code\n",
    "    - geometry: MultiPolygon\n",
    "\n",
    "**administrative-areas.tsv**\n",
    "\n",
    "    - name\n",
    "    - name:en\n",
    "    - alt_name\n",
    "    - geometry: MultiPolygon\n",
    "\n",
    "And 2 \"temporary\" tab-separated-values files, to be refined in the next process.\n",
    "\n",
    "**streets.tsv**\n",
    "\n",
    "    - name\n",
    "    - ?name:en\n",
    "    - ?alt_name\n",
    "    - geometry: LineString or MultiPolygon\n",
    "\n",
    "**housenums.tsv**\n",
    "\n",
    "    - housenumber\n",
    "    - ?street\n",
    "    - ?postcode\n",
    "    - ?city\n",
    "    - geometry: Point (centroid)\n"
   ]
  },
  {
   "attachments": {},
   "cell_type": "markdown",
   "metadata": {},
   "source": [
    "The tags to extract from the full geojson dumps.\n",
    "They vary strongly from country to country or even within different regions of a country.\n",
    "\n",
    "The site https://taginfo.openstreetmap.org/tags provides good insight on available tags and their usage."
   ]
  },
  {
   "cell_type": "code",
   "execution_count": null,
   "metadata": {},
   "outputs": [],
   "source": [
    "import os\n",
    "\n",
    "COUNTRY = os.environ.get('COUNTRY', 'andorra')\n",
    "COUNTRY_CODE = os.environ.get('CODE', 'AD')\n",
    "\n",
    "AREA_TAGS = [\n",
    "    'id',\n",
    "    'boundary',\n",
    "    'admin_level',\n",
    "    'postal_code',\n",
    "    'name',\n",
    "    'alt_name',\n",
    "    'name:en',\n",
    "]\n",
    "\n",
    "\n",
    "STREET_TAGS = [\n",
    "    'id',\n",
    "    'highway',\n",
    "    'name',\n",
    "    'alt_name',\n",
    "]\n",
    "\n",
    "HOUSE_TAGS = [\n",
    "    'id',\n",
    "    'addr:housenumber',\n",
    "    'addr:street',\n",
    "    'addr:city',\n",
    "    'addr:postcode'\n",
    "]"
   ]
  },
  {
   "cell_type": "code",
   "execution_count": null,
   "metadata": {},
   "outputs": [],
   "source": [
    "import pandas as pd\n",
    "\n",
    "admin_level_mapping = pd.read_csv('admin_level_mapping.tsv', sep='\\t', dtype={'admin_level':str})\n",
    "admin_level_mapping = admin_level_mapping[admin_level_mapping['country_code'] == COUNTRY_CODE]\n",
    "admin_level_mapping = admin_level_mapping.set_index('admin_level')['area_type']\n",
    "\n",
    "admin_level_mapping"
   ]
  },
  {
   "attachments": {},
   "cell_type": "markdown",
   "metadata": {},
   "source": [
    "# Areas"
   ]
  },
  {
   "cell_type": "code",
   "execution_count": null,
   "metadata": {},
   "outputs": [],
   "source": [
    "import geopandas as gpd\n",
    "areas = gpd.read_file(f'temp/{COUNTRY}-areas.geo.jsonseq', encoding=\"utf8\", engine=\"pyogrio\", columns=AREA_TAGS)\n",
    "areas.rename(columns={'id': 'area_id', 'name': 'area_name'}, inplace=True)\n",
    "areas\n"
   ]
  },
  {
   "cell_type": "code",
   "execution_count": null,
   "metadata": {},
   "outputs": [],
   "source": [
    "areas['geometry'].type.value_counts()"
   ]
  },
  {
   "attachments": {},
   "cell_type": "markdown",
   "metadata": {},
   "source": [
    "## Country borders\n",
    "\n",
    "There might be multiple boundaries, for example because of enclaves in neighboring countries or islands beyond territorial waters."
   ]
  },
  {
   "cell_type": "code",
   "execution_count": null,
   "metadata": {},
   "outputs": [],
   "source": [
    "country_borders = areas[areas['admin_level'] == '2']\n",
    "country_borders.boundary.plot()"
   ]
  },
  {
   "attachments": {},
   "cell_type": "markdown",
   "metadata": {},
   "source": [
    "## Filtering"
   ]
  },
  {
   "cell_type": "code",
   "execution_count": null,
   "metadata": {},
   "outputs": [],
   "source": [
    "areas = areas[areas['boundary'].isin(['administrative', 'postal_code'])]\n",
    "areas"
   ]
  },
  {
   "cell_type": "code",
   "execution_count": null,
   "metadata": {},
   "outputs": [],
   "source": [
    "areas = areas.clip(country_borders)\n",
    "areas"
   ]
  },
  {
   "cell_type": "code",
   "execution_count": null,
   "metadata": {},
   "outputs": [],
   "source": [
    "areas['geometry'].type.value_counts()"
   ]
  },
  {
   "cell_type": "code",
   "execution_count": null,
   "metadata": {},
   "outputs": [],
   "source": [
    "areas = areas[areas['geometry'].type.isin(['Polygon', 'MultiPolygon'])]\n",
    "areas"
   ]
  },
  {
   "cell_type": "code",
   "execution_count": null,
   "metadata": {},
   "outputs": [],
   "source": [
    "# copy() to release memory instead of slice which keeps the original ...does mem release work?\n",
    "areas = areas.copy()"
   ]
  },
  {
   "attachments": {},
   "cell_type": "markdown",
   "metadata": {},
   "source": [
    "## Administrative areas"
   ]
  },
  {
   "cell_type": "code",
   "execution_count": null,
   "metadata": {},
   "outputs": [],
   "source": [
    "for i in range(3,11):\n",
    "    level = str(i)\n",
    "    admin_level = areas[areas['admin_level'] == level]\n",
    "    if not admin_level.empty:\n",
    "        area_name = admin_level_mapping.get(level, '??? (ignored)')\n",
    "        ax = admin_level.plot()\n",
    "        country_borders.boundary.plot(linewidth=0.5, ax=ax, color='green')\n",
    "        ax.set_title(f'{COUNTRY.capitalize()} - level {i} - {area_name}')"
   ]
  },
  {
   "cell_type": "code",
   "execution_count": null,
   "metadata": {},
   "outputs": [],
   "source": [
    "administrative_areas = areas.drop(columns=['boundary', 'postal_code']).dropna(subset='admin_level').sort_values(['admin_level', 'area_name'])\n",
    "administrative_areas['admin_level'].replace(admin_level_mapping, inplace=True)\n",
    "administrative_areas.to_csv(f'addresses/{COUNTRY}-administrative-areas.tsv', index=False, encoding=\"utf8\", sep='\\t')\n",
    "administrative_areas"
   ]
  },
  {
   "attachments": {},
   "cell_type": "markdown",
   "metadata": {},
   "source": [
    "## Postal codes"
   ]
  },
  {
   "cell_type": "code",
   "execution_count": null,
   "metadata": {},
   "outputs": [],
   "source": [
    "postal_codes = areas[['area_id', 'postal_code', 'geometry']].dropna().sort_values(['postal_code']).copy()\n",
    "postal_codes.to_csv(f'addresses/{COUNTRY}-postal-codes.tsv', index=False, encoding=\"utf8\", sep='\\t')\n",
    "postal_codes"
   ]
  },
  {
   "cell_type": "code",
   "execution_count": null,
   "metadata": {},
   "outputs": [],
   "source": [
    "ax = postal_codes.plot()\n",
    "country_borders.boundary.plot(linewidth=0.5, ax=ax, color='green')"
   ]
  },
  {
   "attachments": {},
   "cell_type": "markdown",
   "metadata": {},
   "source": [
    "# Streets"
   ]
  },
  {
   "cell_type": "code",
   "execution_count": null,
   "metadata": {},
   "outputs": [],
   "source": [
    "streets = gpd.read_file(f'temp/{COUNTRY}-streets.geo.jsonseq', encoding=\"utf8\", engine=\"pyogrio\", columns=STREET_TAGS)\n",
    "streets.rename(columns={'id': 'street_id', 'name': 'street_name'}, inplace=True)\n",
    "streets"
   ]
  },
  {
   "attachments": {},
   "cell_type": "markdown",
   "metadata": {},
   "source": [
    "## Filtering"
   ]
  },
  {
   "cell_type": "code",
   "execution_count": null,
   "metadata": {},
   "outputs": [],
   "source": [
    "# 'footway' is included because in \"less urbanized\" places, there are valid addresses on footways \n",
    "HIGHWAY_TYPES = ['trunk', 'primary', 'secondary', 'tertiary', 'unclassified', 'residential', 'living_street', 'service', 'pedestrian', 'track', 'road', 'footway']\n",
    "streets = streets[streets['highway'].isin(HIGHWAY_TYPES)]\n",
    "streets"
   ]
  },
  {
   "cell_type": "code",
   "execution_count": null,
   "metadata": {},
   "outputs": [],
   "source": [
    "print(\"Percentage of tags present in raw data\")\n",
    "(1-streets.isna().mean().round(3)) * 100"
   ]
  },
  {
   "cell_type": "code",
   "execution_count": null,
   "metadata": {},
   "outputs": [],
   "source": [
    "# copy() to release memory instead of slice which keeps the original ...does mem release work?\n",
    "streets = streets.copy()"
   ]
  },
  {
   "attachments": {},
   "cell_type": "markdown",
   "metadata": {},
   "source": [
    "## Mapping areas to streets"
   ]
  },
  {
   "cell_type": "code",
   "execution_count": null,
   "metadata": {},
   "outputs": [],
   "source": [
    "# Using the \"centroid\" workaround for performance reasons\n",
    "# See https://github.com/geopandas/geopandas/issues/2840\n",
    "# Note that the full \"way\" geometry will be needed later\n",
    "streets['center'] = streets['geometry'].centroid\n",
    "streets.set_geometry('center', inplace=True)\n",
    "streets = streets.clip(country_borders).copy()\n",
    "streets"
   ]
  },
  {
   "cell_type": "code",
   "execution_count": null,
   "metadata": {},
   "outputs": [],
   "source": [
    "from tqdm import tqdm\n",
    "\n",
    "#streets.set_geometry('geometry', inplace=True) # More complete\n",
    "streets.set_geometry('center', inplace=True) # Quicker\n",
    "#streets.drop(columns='index_right', inplace=True)\n",
    "\n",
    "for admin_level in tqdm(admin_level_mapping.unique()):\n",
    "    print(admin_level)\n",
    "    if admin_level == 'country':\n",
    "        continue\n",
    "    aa = administrative_areas[administrative_areas['admin_level'] == admin_level][['area_name', 'geometry']]\n",
    "    aa = aa.rename(columns={'area_name': admin_level})\n",
    "    streets = streets.sjoin(aa, predicate='intersects', how='left').drop(columns='index_right')\n",
    "\n",
    "streets"
   ]
  },
  {
   "cell_type": "code",
   "execution_count": null,
   "metadata": {},
   "outputs": [],
   "source": [
    "streets = streets.sjoin(postal_codes[['postal_code','geometry']], how='left').drop(columns='index_right')\n",
    "streets"
   ]
  },
  {
   "attachments": {},
   "cell_type": "markdown",
   "metadata": {},
   "source": [
    "## Merging multi-section streets"
   ]
  },
  {
   "cell_type": "code",
   "execution_count": null,
   "metadata": {},
   "outputs": [],
   "source": [
    "streets.set_geometry('geometry', inplace=True)\n",
    "streets.drop(columns=['center'], inplace=True)\n",
    "props = [c for c in streets.columns if c not in STREET_TAGS + ['street_id']]\n",
    "streets[props]"
   ]
  },
  {
   "cell_type": "code",
   "execution_count": null,
   "metadata": {},
   "outputs": [],
   "source": [
    "#def agg(col):\n",
    "#    return ';'.join(col.unique())\n",
    "#streets.dissolve(by=['street_name', 'admin_level_7', 'admin_level_8'], aggfunc=agg)\n"
   ]
  },
  {
   "cell_type": "code",
   "execution_count": null,
   "metadata": {},
   "outputs": [],
   "source": [
    "streets['country'] = COUNTRY_CODE\n",
    "props = [c for c in admin_level_mapping.unique()] + ['postal_code', 'street_name']\n",
    "streets_tsv = streets[props].drop_duplicates()\n",
    "streets_tsv.sort_values(by=list(streets_tsv.columns), inplace=True)\n",
    "streets_tsv"
   ]
  },
  {
   "cell_type": "code",
   "execution_count": null,
   "metadata": {},
   "outputs": [],
   "source": [
    "streets_tsv.to_csv(f'addresses/{COUNTRY}-streets.tsv.gz', sep='\\t', index=False)\n",
    "streets_tsv = None"
   ]
  },
  {
   "attachments": {},
   "cell_type": "markdown",
   "metadata": {},
   "source": [
    "# House numbers"
   ]
  },
  {
   "cell_type": "code",
   "execution_count": null,
   "metadata": {},
   "outputs": [],
   "source": [
    "housenums = gpd.read_file(f'temp/{COUNTRY}-housenums.geo.jsonseq', encoding=\"utf8\", engine=\"pyogrio\", columns=HOUSE_TAGS)\n",
    "housenums.rename(columns={'id': 'house_id'}, inplace=True)\n",
    "#housenums.set_index('house_id', inplace=True)\n",
    "housenums"
   ]
  },
  {
   "cell_type": "code",
   "execution_count": null,
   "metadata": {},
   "outputs": [],
   "source": [
    "print(\"Percentage of tags present in raw data\")\n",
    "(1-housenums.isna().mean().round(3)) * 100"
   ]
  },
  {
   "cell_type": "code",
   "execution_count": null,
   "metadata": {},
   "outputs": [],
   "source": [
    "housenums['geometry'].type.value_counts()"
   ]
  },
  {
   "cell_type": "code",
   "execution_count": null,
   "metadata": {},
   "outputs": [],
   "source": [
    "housenums['geometry'] = housenums['geometry'].centroid\n",
    "housenums = housenums.clip(country_borders).copy()\n",
    "housenums"
   ]
  },
  {
   "attachments": {},
   "cell_type": "markdown",
   "metadata": {},
   "source": [
    "## Merge house duplicates\n",
    "\n",
    "Often, house polygons include an additonal house \"point\"."
   ]
  },
  {
   "attachments": {},
   "cell_type": "markdown",
   "metadata": {},
   "source": [
    "## Finding missing streets\n",
    "\n",
    "Finding the nearest street of a house is an *expensive computation*. Therefore, we will work on a *slice* of the dataset having no `addr:street` tag."
   ]
  },
  {
   "cell_type": "code",
   "execution_count": null,
   "metadata": {},
   "outputs": [],
   "source": [
    "street_names = streets[['street_name', 'geometry']]\n",
    "street_names"
   ]
  },
  {
   "cell_type": "code",
   "execution_count": null,
   "metadata": {},
   "outputs": [],
   "source": [
    "street_names.set_geometry('geometry', inplace=True) # More complete\n",
    "\n",
    "missing_house_streets = housenums[housenums['addr:street'].isna()]\n",
    "missing_house_streets = missing_house_streets.to_crs(3857).sjoin_nearest(street_names.to_crs(3857), max_distance=100)\n",
    "missing_house_streets"
   ]
  },
  {
   "cell_type": "code",
   "execution_count": null,
   "metadata": {},
   "outputs": [],
   "source": [
    "# List of houses where no street within 100m was found\n",
    "missing_house_streets[missing_house_streets['street_name'].isna()]"
   ]
  },
  {
   "cell_type": "code",
   "execution_count": null,
   "metadata": {},
   "outputs": [],
   "source": [
    "housenums['street'] = housenums['addr:street']\n",
    "housenums['street'][missing_house_streets.index] = missing_house_streets['street_name']\n",
    "housenums"
   ]
  },
  {
   "attachments": {},
   "cell_type": "markdown",
   "metadata": {},
   "source": [
    "## Mapping areas to houses"
   ]
  },
  {
   "cell_type": "code",
   "execution_count": null,
   "metadata": {},
   "outputs": [],
   "source": [
    "from tqdm import tqdm\n",
    "\n",
    "streets.set_geometry('geometry', inplace=True) # More complete\n",
    "\n",
    "for admin_level in tqdm(administrative_areas['admin_level'].unique()):\n",
    "    print(admin_level)\n",
    "    if admin_level == 'country':\n",
    "        continue\n",
    "    aa = administrative_areas[administrative_areas['admin_level'] == admin_level][['area_name', 'geometry']]\n",
    "    aa = aa.rename(columns={'area_name': admin_level})\n",
    "    housenums = housenums.sjoin(aa, predicate='intersects', how='left').drop(columns='index_right')\n",
    "\n",
    "housenums"
   ]
  },
  {
   "cell_type": "code",
   "execution_count": null,
   "metadata": {},
   "outputs": [],
   "source": [
    "housenums = housenums.sjoin(postal_codes[['postal_code','geometry']], how='left').drop(columns='index_right')\n",
    "housenums"
   ]
  },
  {
   "cell_type": "code",
   "execution_count": null,
   "metadata": {},
   "outputs": [],
   "source": [
    "print(\"Percentage of tags present in raw data\")\n",
    "(1-housenums.isna().mean().round(3)) * 100"
   ]
  },
  {
   "cell_type": "code",
   "execution_count": null,
   "metadata": {},
   "outputs": [],
   "source": [
    "housenums.dropna(subset=['street'], inplace=True)\n",
    "housenums['x'] = housenums['geometry'].x\n",
    "housenums['y'] = housenums['geometry'].y\n",
    "housenums"
   ]
  },
  {
   "cell_type": "code",
   "execution_count": null,
   "metadata": {},
   "outputs": [],
   "source": [
    "housenums['house_number'] = housenums['addr:housenumber']\n",
    "housenums['city'] = housenums['city'].combine_first(housenums['addr:city'])\n",
    "housenums['postal_code'] = housenums['postal_code'].combine_first(housenums['addr:postcode'])"
   ]
  },
  {
   "cell_type": "code",
   "execution_count": null,
   "metadata": {},
   "outputs": [],
   "source": [
    "housenums_tsv = housenums[['postal_code', 'city', 'street', 'house_number', 'x', 'y']].drop_duplicates()\n",
    "housenums_tsv.sort_values(by=list(housenums_tsv.columns), inplace=True)\n",
    "housenums_tsv['country'] = COUNTRY_CODE\n",
    "housenums_tsv"
   ]
  },
  {
   "cell_type": "code",
   "execution_count": null,
   "metadata": {},
   "outputs": [],
   "source": [
    "housenums_tsv.to_csv(f'addresses/{COUNTRY}-houses.tsv.gz', sep='\\t', index=False)\n",
    "housenums_tsv = None"
   ]
  },
  {
   "attachments": {},
   "cell_type": "markdown",
   "metadata": {},
   "source": [
    "# Maps"
   ]
  },
  {
   "cell_type": "code",
   "execution_count": null,
   "metadata": {},
   "outputs": [],
   "source": [
    "(minx, miny, maxx, maxy) = country_borders.total_bounds\n",
    "dx = 5 * (maxx - minx)\n",
    "dy = 5 * (maxy - miny)\n",
    "print((dx,dy))\n"
   ]
  },
  {
   "cell_type": "code",
   "execution_count": null,
   "metadata": {},
   "outputs": [],
   "source": [
    "import matplotlib.pyplot as plt\n",
    "\n",
    "ax = country_borders.to_crs(epsg=3857).boundary.plot(linewidth=0.5, figsize=(dx, dy), color='green')\n",
    "ax = streets.to_crs(epsg=3857).plot(ax=ax, linewidth=0.5, figsize=(dx, dy), color='orange')\n",
    "ax = housenums.to_crs(epsg=3857).plot(ax=ax, markersize=0.5, color='red')\n",
    "\n",
    "ax.set_title(f'{COUNTRY.capitalize()} addresses')\n",
    "\n",
    "import contextily as cx\n",
    "cx.add_basemap(ax, source=cx.providers.CartoDB.Positron, zoom=10)\n",
    "ax.set_axis_off()"
   ]
  }
 ],
 "metadata": {
  "kernelspec": {
   "display_name": "Python 3",
   "language": "python",
   "name": "python3"
  },
  "language_info": {
   "codemirror_mode": {
    "name": "ipython",
    "version": 3
   },
   "file_extension": ".py",
   "mimetype": "text/x-python",
   "name": "python",
   "nbconvert_exporter": "python",
   "pygments_lexer": "ipython3",
   "version": "3.10.4"
  },
  "orig_nbformat": 4,
  "vscode": {
   "interpreter": {
    "hash": "05cc15ce5d3c80e88bf1634c205d5255f2f60b32e6862015c65f586b25980de5"
   }
  }
 },
 "nbformat": 4,
 "nbformat_minor": 2
}
